{
 "cells": [
  {
   "cell_type": "markdown",
   "id": "35cb11a5",
   "metadata": {},
   "source": [
    "# My Jupyter Notebook on IBM Watson Studio"
   ]
  },
  {
   "cell_type": "markdown",
   "id": "c0a3e5dd",
   "metadata": {},
   "source": [
    "**Erika** \n",
    "\n",
    "PhD fellow"
   ]
  },
  {
   "cell_type": "markdown",
   "id": "d72c4804",
   "metadata": {},
   "source": [
    "*Interested in data science driven by a great curiosity for new technologies and innovative solutions*"
   ]
  },
  {
   "cell_type": "markdown",
   "id": "51bdfcc2",
   "metadata": {},
   "source": [
    "### The following code resolves 1+1 = 2"
   ]
  },
  {
   "cell_type": "code",
   "execution_count": 1,
   "id": "393cc94f",
   "metadata": {},
   "outputs": [
    {
     "data": {
      "text/plain": [
       "2"
      ]
     },
     "execution_count": 1,
     "metadata": {},
     "output_type": "execute_result"
    }
   ],
   "source": [
    "1+1"
   ]
  },
  {
   "cell_type": "markdown",
   "id": "7a2355a9",
   "metadata": {},
   "source": [
    "***\n",
    "\n",
    "1. First item\n",
    "2. Second item\n",
    "3. Third item\n",
    "4. Fourth item\n",
    "\n",
    "| Column 1    | Column 2    |\n",
    "| ----------- | ----------- |\n",
    "| a           | A           |\n",
    "| b           | B           |\n",
    "\n",
    "[This is a hyperlink to IBM Watson Studio website](https://www.ibm.com/watson/studio)\n"
   ]
  }
 ],
 "metadata": {
  "kernelspec": {
   "display_name": "Python 3 (ipykernel)",
   "language": "python",
   "name": "python3"
  },
  "language_info": {
   "codemirror_mode": {
    "name": "ipython",
    "version": 3
   },
   "file_extension": ".py",
   "mimetype": "text/x-python",
   "name": "python",
   "nbconvert_exporter": "python",
   "pygments_lexer": "ipython3",
   "version": "3.8.10"
  }
 },
 "nbformat": 4,
 "nbformat_minor": 5
}
